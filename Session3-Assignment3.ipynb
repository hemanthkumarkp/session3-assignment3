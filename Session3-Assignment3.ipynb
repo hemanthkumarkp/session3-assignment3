{
 "cells": [
  {
   "cell_type": "markdown",
   "metadata": {},
   "source": [
    "1) Write a python program which creates a class named Cone and write a\n",
    "function calculate_area which calculates the area of the Cone.\n",
    "Sample Execution:\n",
    "Please enter the radius of the cone: 4\n",
    "Please enter the height of the cone: 5\n",
    "Area of a cone with radius: 4.00 and height: 5.00 is: 83.73"
   ]
  },
  {
   "cell_type": "code",
   "execution_count": 6,
   "metadata": {},
   "outputs": [
    {
     "name": "stdout",
     "output_type": "stream",
     "text": [
      "The volume/area of the cone is 83.78\n"
     ]
    }
   ],
   "source": [
    "import math\n",
    "class Cone:\n",
    "    def __init__(self,r,h):\n",
    "        self.r =r\n",
    "        self.h =h\n",
    "    def area(self):\n",
    "        #pi*r2*h/3\n",
    "        return math.pi*(self.r**2)*(self.h/3)\n",
    "    \n",
    "\n",
    "cone = Cone(4,5)\n",
    "print('The volume/area of the cone is %0.2f' %cone.area())"
   ]
  },
  {
   "cell_type": "markdown",
   "metadata": {},
   "source": [
    "2) Define a class MathOperation which implements pow(x,n) without using\n",
    "python's in-built pow() method\n",
    "Sample Execution:\n",
    "M = MathOperation()\n",
    "print(M.pow(2, 3))\n",
    "8\n",
    "print(M.pow(5, -3))\n",
    "0.008\n",
    "print(M.pow(-2, 5))\n",
    "-32\n",
    "print(M.pow(-5, -3))\n",
    "-0.008\n",
    "print(M.pow(20000,0))\n",
    "1"
   ]
  },
  {
   "cell_type": "code",
   "execution_count": 4,
   "metadata": {},
   "outputs": [
    {
     "name": "stdout",
     "output_type": "stream",
     "text": [
      "0.008\n",
      "-32\n",
      "-0.008\n",
      "1\n"
     ]
    }
   ],
   "source": [
    "import math\n",
    "\n",
    "class MathOperation:\n",
    "    def __init__(self):\n",
    "        pass\n",
    "    def power(self,num,power):\n",
    "        return num**power\n",
    "\n",
    "M = MathOperation()\n",
    "print(M.power(5,-3))\n",
    "print(M.power(-2,5))\n",
    "print(M.power(-5,-3))\n",
    "print(M.power(20000,0))"
   ]
  },
  {
   "cell_type": "markdown",
   "metadata": {},
   "source": [
    "3) Write a python program that creates a class Base and Derived. Use inbuilt\n",
    "function issubclass and isinstance which gives boolean results.(True or\n",
    "False)\n",
    "Check:\n",
    "Derived class is a subclass of Base class which will return true\n",
    "Base class is a subclass of Derived class which will return false\n",
    "Base class is an instance of Derived class which will return false\n",
    "Derived class is an instance of Base class which will return true"
   ]
  },
  {
   "cell_type": "code",
   "execution_count": 14,
   "metadata": {},
   "outputs": [
    {
     "name": "stdout",
     "output_type": "stream",
     "text": [
      "Derived class is a subclass of Base class which will return true : True\n",
      "Base class is a subclass of Derived class which will return false : False\n",
      "Base class is an instance of Derived class which will return false : False\n",
      "Derived class is an instance of Base class which will return true : True\n"
     ]
    }
   ],
   "source": [
    "class BaseClass:\n",
    "    def __init__(self, name, surname, year_of_birth):\n",
    "        self.__name = name\n",
    "        self.__surname = surname\n",
    "        self.__year_of_birth = year_of_birth\n",
    "    \n",
    "    def age(self, current_year):\n",
    "        return current_year - self.__year_of_birth\n",
    "    \n",
    "    def __str__(self):\n",
    "        return \"%s %s and was born %d.\" \\\n",
    "                % (self.__name, self.__surname, self.__year_of_birth)\n",
    "\n",
    "class DerivedClass(BaseClass):\n",
    "    def __init__(self, student_id, *args, **kwargs):\n",
    "        super(DerivedClass, self).__init__(*args, **kwargs)\n",
    "        self._student_id = student_id\n",
    "\n",
    "alec = BaseClass(\"Alec\", \"Baldwin\", 1958)\n",
    "charlie = DerivedClass(1, 'Charlie', 'Brown', 2006)\n",
    "\n",
    "print(\"Derived class is a subclass of Base class which will return true :\",issubclass(DerivedClass,BaseClass))\n",
    "print(\"Base class is a subclass of Derived class which will return false :\",issubclass(BaseClass,DerivedClass))\n",
    "print(\"Base class is an instance of Derived class which will return false :\",isinstance(alec, DerivedClass))\n",
    "print(\"Derived class is an instance of Base class which will return true :\",isinstance(charlie, BaseClass))\n"
   ]
  },
  {
   "cell_type": "markdown",
   "metadata": {},
   "source": [
    "4) Write a python program that creates base class Person which has two\n",
    "methods\n",
    "def __init__(self, first, last)\n",
    "def __str__(self)\n",
    "Also create a derived class named Employee which uses the base class\n",
    "method “def __str__(self)” using “super()” to concatenate first name wit\n",
    "h last name"
   ]
  },
  {
   "cell_type": "code",
   "execution_count": 30,
   "metadata": {},
   "outputs": [
    {
     "name": "stdout",
     "output_type": "stream",
     "text": [
      "Hemanth Kumar \n"
     ]
    }
   ],
   "source": [
    "class Person:\n",
    "    def __init__(self, first, last):\n",
    "        self.__first = first\n",
    "        self.__last = last\n",
    " \n",
    "    def __str__(self):\n",
    "        return \"%s %s \"  % (self.__first, self.__last)\n",
    "\n",
    "class Employee(Person):\n",
    "    def __init__(self, *args, **kwargs):\n",
    "        super(Employee, self).__init__(*args, **kwargs)\n",
    "        \n",
    "    def __str__(self):\n",
    "        return super(Employee, self).__str__() \n",
    "\n",
    "charlie = Employee('Hemanth', 'Kumar')\n",
    "print(charlie)\n"
   ]
  },
  {
   "cell_type": "code",
   "execution_count": null,
   "metadata": {},
   "outputs": [],
   "source": []
  }
 ],
 "metadata": {
  "kernelspec": {
   "display_name": "Python 3",
   "language": "python",
   "name": "python3"
  },
  "language_info": {
   "codemirror_mode": {
    "name": "ipython",
    "version": 3
   },
   "file_extension": ".py",
   "mimetype": "text/x-python",
   "name": "python",
   "nbconvert_exporter": "python",
   "pygments_lexer": "ipython3",
   "version": "3.6.5"
  }
 },
 "nbformat": 4,
 "nbformat_minor": 2
}
